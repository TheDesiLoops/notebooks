{
  "cells": [
    {
      "cell_type": "markdown",
      "metadata": {},
      "source": [
        "In this blog we will talk about how to build a simple News AI Assistant. We will be using Google News python library to fetch the news and then we will use the ChromaDB to do semantic search. After that we will use Retrieval Augmented Generation (RAG) model to generate the answer for the question.\n",
        "\n",
        "Here is the video of this blog:\n",
        "[![Free AI Workshop - Building a news assistant](https://img.youtube.com/vi/tKdDM0QIrvg/0.jpg)](https://www.youtube.com/embed/tKdDM0QIrvg \"Free AI Workshop - Building a news assistant\")\n",
        "\n",
        "Also subscribe to my youtube channel for more such videos:\n"
      ]
    },
    {
      "cell_type": "markdown",
      "metadata": {},
      "source": [
        "We start with installing Google News python library."
      ]
    },
    {
      "cell_type": "code",
      "execution_count": 3,
      "metadata": {},
      "outputs": [
        {
          "name": "stdout",
          "output_type": "stream",
          "text": [
            "Requirement already satisfied: GoogleNews in ./.venv/lib/python3.12/site-packages (1.6.15)\n",
            "Requirement already satisfied: beautifulsoup4 in ./.venv/lib/python3.12/site-packages (from GoogleNews) (4.12.3)\n",
            "Requirement already satisfied: dateparser in ./.venv/lib/python3.12/site-packages (from GoogleNews) (1.2.0)\n",
            "Requirement already satisfied: python-dateutil in ./.venv/lib/python3.12/site-packages (from GoogleNews) (2.9.0.post0)\n",
            "Requirement already satisfied: soupsieve>1.2 in ./.venv/lib/python3.12/site-packages (from beautifulsoup4->GoogleNews) (2.6)\n",
            "Requirement already satisfied: pytz in ./.venv/lib/python3.12/site-packages (from dateparser->GoogleNews) (2024.2)\n",
            "Requirement already satisfied: regex!=2019.02.19,!=2021.8.27 in ./.venv/lib/python3.12/site-packages (from dateparser->GoogleNews) (2024.9.11)\n",
            "Requirement already satisfied: tzlocal in ./.venv/lib/python3.12/site-packages (from dateparser->GoogleNews) (5.2)\n",
            "Requirement already satisfied: six>=1.5 in ./.venv/lib/python3.12/site-packages (from python-dateutil->GoogleNews) (1.16.0)\n"
          ]
        }
      ],
      "source": [
        "!pip install GoogleNews"
      ]
    },
    {
      "cell_type": "markdown",
      "metadata": {},
      "source": [
        "Initialize the Google News object for fetching the news."
      ]
    },
    {
      "cell_type": "code",
      "execution_count": 4,
      "metadata": {},
      "outputs": [],
      "source": [
        "from GoogleNews import GoogleNews\n",
        "googlenews = GoogleNews()"
      ]
    },
    {
      "cell_type": "code",
      "execution_count": 5,
      "metadata": {},
      "outputs": [
        {
          "name": "stdout",
          "output_type": "stream",
          "text": [
            "1.6.15\n"
          ]
        }
      ],
      "source": [
        "print(googlenews.getVersion())"
      ]
    },
    {
      "cell_type": "markdown",
      "metadata": {},
      "source": [
        "Let's set the period to last 2 days."
      ]
    },
    {
      "cell_type": "code",
      "execution_count": 6,
      "metadata": {},
      "outputs": [],
      "source": [
        "googlenews = GoogleNews(period='2d')"
      ]
    },
    {
      "cell_type": "markdown",
      "metadata": {},
      "source": [
        "Set the encoding to utf-8."
      ]
    },
    {
      "cell_type": "code",
      "execution_count": 7,
      "metadata": {},
      "outputs": [],
      "source": [
        "googlenews = GoogleNews(encode='utf-8')"
      ]
    },
    {
      "cell_type": "markdown",
      "metadata": {},
      "source": [
        "Here we set the topic to \"Sports\"."
      ]
    },
    {
      "cell_type": "code",
      "execution_count": 8,
      "metadata": {},
      "outputs": [],
      "source": [
        "googlenews.set_topic('CAAqKggKIiRDQkFTRlFvSUwyMHZNRFp1ZEdvU0JXVnVMVWRDR2dKSlRpZ0FQAQ')\n",
        "googlenews.get_news()"
      ]
    },
    {
      "cell_type": "markdown",
      "metadata": {},
      "source": [
        "And, now we can fetch the titles of the news."
      ]
    },
    {
      "cell_type": "code",
      "execution_count": 11,
      "metadata": {},
      "outputs": [
        {
          "data": {
            "text/plain": [
              "[\"Anand Mahindra's 'Punjabi' Reaction To India's 'Tunuk Tunuk' Dance After Chess Olympiad Win\",\n",
              " 'Chess Olympiad | Absolute domination by both Indian teams, says Harikrishna',\n",
              " '‘Aggressive style is working for India’s youngsters,’ says Giri',\n",
              " \"'Celebration Inspired By Messi and Rohit': Chess Champs To NDTV\",\n",
              " 'India sharpened focus on fielding, fitness for T20 World Cup, say Harmanpreet and Muzumdar',\n",
              " \"Harmanpreet: 'This is our best ever team at a T20 World Cup'\",\n",
              " 'Women’s T20 World Cup: Skipper Harmanpreet Kaur happy to ‘tick all boxes’ on preparation front',\n",
              " \"Harmanpreet Kaur upbeat about India's T20 World Cup chances with strong batting core\",\n",
              " 'Virat Kohli steals the limelight as he, Rishabh Pant and Gautam Gambhir reach Kanpur for India vs Bangladesh 2nd Test',\n",
              " 'India and Bangladesh brace for lower bounce on black-soil pitch in Kanpur',\n",
              " 'India vs Bangladesh: Cues from Kanpur – Slow turner, rain and a security threat',\n",
              " \"RCB Pacer To Make Debut, Kuldeep In For Bumrah? India's Likely Playing XI For 2nd Test Against Bangladesh\",\n",
              " 'Ishan Kishan picked in Rest of India squad for Irani Cup',\n",
              " 'Sarfaraz Khan To Be Snubbed For 2nd Test vs Bangladesh? BCCI Clarifies Position',\n",
              " \"KL Rahul considered as Rishabh Pant's back-up after Agarkar's fresh selection call ahead of 2nd Bangladesh Test: Report\",\n",
              " 'Ruturaj Gaikwad to lead Rest of India squad; Sarfaraz, Jurel, Dayal likely to be released for Irani Cup',\n",
              " \"'Relaxed rancho': R Ashwin compares Gautam Gambhir's and Rahul Dravid's coaching styles\",\n",
              " 'Rahul Dravid \"Very Regimented, Gautam Gambhir Is...\": R Ashwin Decodes Stark Difference',\n",
              " \"‘Dravid wanted even a bottle to be kept in order. With Gambhir, there’s no such pressure': Ashwin on India head coach\",\n",
              " 'IND vs BAN: Rahul bhai was regimented, Gambhir is relaxed - Ashwin',\n",
              " 'List Of Records Ravichandran Ashwin Can Break In 2nd India-Bangladesh Test',\n",
              " 'Ashwin knows Chepauk inside-out, turns Bangladesh inside-out',\n",
              " 'World Test Championship: India tightens grip on top spot',\n",
              " \"More wins than loses: Tracing India's incredible Test cricket journey\",\n",
              " 'Shakib will not face trouble playing at home feels BCB',\n",
              " 'Bangladesh veteran under injury cloud ahead of Kanpur Test',\n",
              " '\"Hope He Is Not Arrested\": BCB Official\\'s Concerning Statement On Murder Case Filed Against Shakib A..',\n",
              " 'Bangladesh captain Najmul Hossain Shanto defends Shakib Al Hasan',\n",
              " 'ENG vs AUS Match Prediction – Who will win today’s 3rd ODI match between ENG vs AUS?',\n",
              " 'Death-over blitz takes Australia to 304/7',\n",
              " 'England vs Australia LIVE: third men’s ODI – cricket score, radio commentary, video highlights and text updates',\n",
              " \"Smith, Carey half-centuries set up Australia's 304 for 7\",\n",
              " \"'Virat shuru hoga Australia se': Basit Ali says Kohli's low scores vs Bangladesh not an issue\",\n",
              " 'Not Against Bangladesh And New Zealand, Virat Kohli Backed \"To Start\" Performing Against This Team',\n",
              " \"Ahmad Shahzad Backs Virat Kohli To Score A Hundred In Kanpur Test: 'No Doubt He'll Bounce Back Hard'\",\n",
              " 'Basit Ali backs Virat Kohli to shine in Australia, predicts India to win BGT 2024-25',\n",
              " 'Pakistan name squad for 1st England Test',\n",
              " 'Noman Ali included in Pakistan squad for 1st Test vs England',\n",
              " 'Shan Masood retains Pakistan captaincy as Aamer Jamal returns for first Test against England',\n",
              " 'Shan Masood Likely To Be Retained As Pakistan Captain For Test Series Against England',\n",
              " \"On this day, 47 years ago! When Pele brought 'Mecca of Indian football' to a standstill\",\n",
              " '\"India Should Know Truth\": Yogeshwar Dutt Tears Into Vinesh Phogat Over Paris Olympics Row',\n",
              " \"'Conspiracy, blaming PM': Yogeshwar Dutt tears apart Vinesh Phogat on Olympic disqualification, 'despite...\",\n",
              " 'Vinesh Phogat should have apologised, not cried conspiracy: Yogeshwar Dutt',\n",
              " 'Should have apologised to country, not cry conspiracy: Yogeshwar Dutt takes swipe at Vinesh Phogat',\n",
              " 'Tennis stars Somdev Devvarman drags AITA to court over alleged Sports Code violations',\n",
              " 'Delhi HC issues notice to AITA over alleged sports code violation',\n",
              " \"All India Tennis Association's 'electoral college vitiated', alleges sports lawyer Rahul Mehra\",\n",
              " 'Somdev Devvarman, Purav Raja move Delhi High Court against AITA mismanagement, elections',\n",
              " \"Shan Masood, Babar Azam break silence on lack of unity in Pakistan's dressing room; Gillespie, Kirsten attend meeting\",\n",
              " \"Lack of unity within Pakistan team among topics discussed at PCB's connection camp\",\n",
              " 'Fearing Lack Of Communication, PCB To Take This Step To Create Bridge Between Pakistan Players And C..',\n",
              " 'PAK coach Gary Kirsten demands three major changes from players | Tap to know more | Inshorts',\n",
              " 'New Coach For PV Sindhu, Says Father. He Has A Strong Lakshya Sen Connection',\n",
              " 'PV Sindhu: Korean ex-World No 1 Lee Hyun-il joins coaching staff as Indian shuttler bids to find her way back to top level',\n",
              " \"'Get her back on the podium': PV Sindhu's new coach Anup Sridhar aims to restore consistency\",\n",
              " 'South Korean great Lee Hyun Il roped in as PV Sindhu’s consulting coach',\n",
              " \"Rishabh Pant's selfless mindset on comeback Test impresses ex-IND star: ‘…only brave people get the luck’\",\n",
              " 'Rishabh Pant vs MS Dhoni - statistical comparison after 34 Test matches',\n",
              " 'Is Shubman Gill ready now to sit on the throne of games?',\n",
              " 'Exclusive: Rishabh Pant is biggest match-winner for India, and is yet to hit his prime, says Mohammad Kai',\n",
              " \"Australia Women vs New Zealand Women, 3rd T20I: Match Prediction – Who will win today's match between AUS-W vs NZ-W?\",\n",
              " 'Wareham and Gardner both star with bat and ball as Australia complete 3-0 sweep',\n",
              " 'Australia head into T20 World Cup with dominant series win',\n",
              " 'Australia Women vs New Zealand Women Highlights: Australia Women beat New Zealand Women by 5 wickets',\n",
              " 'Ace Afghans deserved series success against South Africa',\n",
              " 'Takeaways: Gurbaz leads the charge, South Africa face opening woes',\n",
              " 'South Africa clinch consolation win against Afghanistan in third ODI',\n",
              " 'AFG vs SA: South Africa wins third ODI, denies Afghanistan series sweep',\n",
              " \"'Keep him quiet': Pat Cummins warns Australia about India's game-changer ahead of Border-Gavaskar Trophy\",\n",
              " '\"You\\'ve Got To Be...\": Nathan Lyon On Tactic To Counter Rishabh Pant\\'s Attacking Approach',\n",
              " 'Border-Gavaskar Trophy: Rishabh Pant has been a big influence, need to keep him quiet, says Pat Cummins',\n",
              " \"Rishabh Pant antidote revealed after BAN Test heroics as BGT legend ready for 'six-hitting' challenge in IND vs AUS\",\n",
              " 'All-female panel of match officials announced for Women’s T20 World Cup 2024',\n",
              " \"'Whatever It Takes' - Official ICC Women's T20 World Cup 2024 event song launched\",\n",
              " 'Meet THIS Indian woman who created history in Test cricket, is now breaking barriers in umpiring',\n",
              " \"ICC unveils official song for the ICC Women's T20 World Cup 'Whatever it takes'\",\n",
              " 'Indian Bowlers Level With \"Wasim Akram, Shoaib Akhtar, Waqar Younis\": Ex Pakistan Star\\'s Admission',\n",
              " '\"Thought Morne Morkel Was Nothing\": Pakistan Stars Torn Apart Over India Bowling Coach\\'s Stint',\n",
              " \"'Jahil log': Pakistan's Basit Ali slams home curators after India's win over Bangladesh\",\n",
              " '‘Pakistan bowlers thought Morne Morkel was nothing’: Shaheen Afridi and co. slammed for belittling former coach',\n",
              " 'Viral Olympic shooter praised by Elon Musk lands acting role - as an assassin',\n",
              " 'Viral South Korean Olympic shooter Kim Yeji scores first acting role – as an assassin',\n",
              " 'Viral Olympics shooter, praised by Elon Musk, lands acting role as assassin opposite Indian actor Anushka...',\n",
              " \"'Crush' series starring South Korea Olympics pistol shooter Kim Yeji: All you need to know\",\n",
              " '\"Let Him Say...\" R Ashwin\\'s Blunt Reply On Virat Kohli vs Jasprit Bumrah Fitness Debate',\n",
              " \"'Let Bumrah say whatever he wants. Tipper lorry and Mercedes are different': Ashwin's ‘Kohinoor of India’ magnum\",\n",
              " \"'Let him say whatever he wants': says Ravichandran Ashwin on Jasprit Bumrah's 'fittest' player remark\",\n",
              " \"R Ashwin responds to Jasprit Bumrah's 'fittest cricketer' remark after social media storm\",\n",
              " '\"We are under no pressure\" - Hansi Flick adresses Barcelona’s plan to replace Marc-André ter Stegen',\n",
              " 'Barça need more Flick magic in light of Ter Stegen injury',\n",
              " 'Barcelona make big decision on replacement for Marc-Andre ter Stegen',\n",
              " 'Barcelona boss Flick backs keeper Pena to cover for injured Ter Stegen',\n",
              " \"Yuvraj Singh Called Him 'Best Domestic Cricket Bowler'. Ex-India Star, Who Was Snubbed After 2 Test..\",\n",
              " 'Big names falter, youngsters excel: The hits and flops of Duleep Trophy 2024',\n",
              " 'Duleep Trophy - Abhimanyu Easwaran, Arshdeep Singh and Tanush Kotian impress',\n",
              " 'Very glad that Prasidh is back, says Sunil Joshi',\n",
              " 'Prasidh Krishna, Tanush Kotian lead India A to Duleep Trophy title',\n",
              " \"Arjun Tendulkar gets heartfelt note from Sachin on 25th birthday: 'Watching you hit the gym first thing in morning...'\",\n",
              " 'Arjun Tendulkar Turns 25, Sachin Tendulkar Writes In Special Wish: \"Your Love...\"',\n",
              " 'Baby Of The House: Sara Tendulkar`s Adorable Birthday Post For Brother Arjun Tendulkar Goes Viral',\n",
              " 'Sara Tendulkar sends birthday wishes to her biggest headache',\n",
              " \"'Won't they be abusing you in their minds?': R Ashwin handed wake-up call as spinner enters 'when will he leave' phase\",\n",
              " \"R Ashwin recalls age banter with Rohit Sharma after wife's hilarious question\",\n",
              " \"Asked Rohit 'When is your b'day?', waiting for it to come: Ashwin | Rohit will turn 38 on April 30 next year | Inshorts\",\n",
              " \"Ravichandran Ashwin's hilarious exchange with Rohit Sharma amidst stellar performance\",\n",
              " \"525 Sq Ft Apartment For ₹2.90 Crore: Shreyas Iyer, Mother's Latest Purchase Turns Heads - Report\",\n",
              " 'Cricketer Shreyas Iyer and mother Rohini Iyer buy 525 sq ft apartment in Mumbai for 2.90 crore',\n",
              " 'Indian star cricketer Shreyas Iyer, his mother buy Rs 29000000 apartment in...',\n",
              " 'Shreyas Iyer, his mother buy apartment for ₹2.90 crore in Mumbai | Iyer also owns a home in Lodha World Towers | Inshorts',\n",
              " \"Southee pleased with young guns O'Rourke and Ravindra despite defeat\",\n",
              " \"Southee finds positives in Ravindra, O'Rourke despite Galle defeat\",\n",
              " 'Tim Southee backs magnificent Rachin Ravindra for more success in Test cricket',\n",
              " \"Southee heaps heavy praise on O'Rourke and Rachin Ravindra | Tap to know more | Inshorts\",\n",
              " 'Asia calling: India U20s arrive in Laos with arduous task ahead',\n",
              " 'Thomas Cherian named India captain for AFC U-20 Asian Cup qualifiers',\n",
              " \"Cherian leads India's challenge to qualify for 1st AFC U-20 Asian Cup\",\n",
              " 'India Announces 23-player Squad For AFC U20 Asian Cup Qualifiers 2025',\n",
              " '\"We Were All Worried In Pakistan\": Wasim Akram Doffs Hat To Rishabh Pant',\n",
              " \"'We were worried in Pakistan': Wasim Akram warns Australia against India's 'miracle kid' ahead of Border-Gavaskar Trophy\",\n",
              " \"'Superhuman' Rishabh Pant performed a miracle upon return: Wasim Akram\",\n",
              " 'Hard for Rishabh Pant to go past MS Dhoni In terms of hero factor: Ian Smith',\n",
              " \"Lord's under scrutiny again as prices rise for India Test in 2025\",\n",
              " \"R Ashwin's honest assessment of Yashasvi Jaiswal taking over KL Rahul's India Test role: 'He is not an innocent guy...'\",\n",
              " 'Bahria Town Champions One-Day Cup playoff stage to begin tomorrow',\n",
              " 'Qualifier (D/N), Faisalabad, September 24, 2024 Champions One-Day Cup',\n",
              " \"Ayub's all-round show, Hasnain's early strikes take Panthers into final\",\n",
              " '[Watch] Naseem Shah Takes Saim Ayub To The Cleaners With A Glorious Six In Champions Cup',\n",
              " \"'Asked to Leave That No-ball and Move Forward': IND Pacer Akash Deep Reveals Unforgettable Moment With Rohi\",\n",
              " \"‘I've never seen a captain like Rohit Sharma. He came forward and…’: India pacer recalls skipper's stellar role\",\n",
              " \"Akash Deep Recalls India Captain Rohit Sharma's Motivational Words After Taking Wicket On No-Ball: 'Aage Badh, Hota Rehta Hai'\",\n",
              " 'He Is The Best Captain: Akashdeep Lauds Rohit Sharmas Exceptional Leadership',\n",
              " 'Indian techie couple earns ₹1.2 crore in Canada. Here are the courses they recommend',\n",
              " 'Sri Lanka call up uncapped offspinner Nishan Peiris for second New Zealand Test',\n",
              " \"Sri Lanka bring in uncapped spinner for 2nd Test against New Zealand after Vishwa Fernando's injury\",\n",
              " 'Big setback for Sri Lanka, star pacer ruled out ahead of 2nd Test against New Zealand',\n",
              " 'SL vs NZ: Sri Lanka Rope in Uncapped Off-spinner to Replace Injured Vishwa Fernando for 2nd Test',\n",
              " \"Monty Panesar's Sharp Dig At England As R Ashwin, 38, Breaks Records\",\n",
              " 'If Ashwin was English, then they would have told him to retire: Monty Panesar',\n",
              " 'R Ashwin Vs Nathon Lyon: Monty Panesar Picks The Better Spinner',\n",
              " \"Monty Panesar compares BCCI, ECB while taking Ravichandran Ashwin's example\",\n",
              " 'Maharashtra government allots Bandra plot unutilised by Sunil Gavaskar to cricketer Ajinkya Rahane',\n",
              " 'Ajinkya Rahane gets Bandra plot that Sunil Gavaskar didn’t develop',\n",
              " 'Maharashtra govt allots Bandra plot unutilised by Gavaskar to cricketer Ajinkya Rahane',\n",
              " '2,000-sq m Bandra plot to be allotted to Ajinkya Rahane for sports facility',\n",
              " 'One-Day Cup final reduced to 20 overs based on forecast in pioneering move',\n",
              " 'No regrets for Dickson as Somerset lose their third title in a week',\n",
              " 'Metro Bank One Day Cup 2024, Final – Live Streaming and Report – Glamorgan vs Somerset – 23rd September',\n",
              " 'Glamorgan win One-Day Cup to consign treble-chasing Somerset to trophyless season',\n",
              " 'ATP Chengdu Final Prediction: Lorenzo Musetti vs Juncheng Shang',\n",
              " \"China's Shang tops Musetti to win Chengdu title\",\n",
              " 'Chengdu Open: Teenager Shang beats Musetti in final to become second Chinese player to win ATP title',\n",
              " '#NextGenATP Shang downs Musetti, wins maiden ATP Tour title in Chengdu',\n",
              " 'Ancelotti: \"Real Madrid, in these years, has not had a single identity\"',\n",
              " '‘Would love to stay here for many years’: Ancelotti hints at continuing at Real Madrid',\n",
              " \"'Don't See me Having an Expiry Date': Carlo Ancelotti Has no Plans to Retire as he Prepares For 300th Game\",\n",
              " \"Carlo Ancelotti: 'Almost a miracle' to coach Real Madrid for 300 games\",\n",
              " 'Manchester City Have Lost a Third of League Games Without Rodri, so Can Title Rivals Capitalise?',\n",
              " \"Rodri's season-ending injury just made Man City, Pep Guardiola's job so much harder\",\n",
              " \"Manchester City's Rodri 'Out For Season' After ACL Injury: Reports\",\n",
              " 'Manchester City midfielder Rodri in Spain for tests on injured knee',\n",
              " \"'Learn from BCCI...': Kamran Akmal slams PCB\",\n",
              " 'Pakistan Cricket Board should learn professionalism from BCCI: Kamran Akmal',\n",
              " \"Former Captain Rashid Latif Wants 'Technically Sound Professionals' To Run Pakistan Cricket\",\n",
              " \"Ex-Pakistan cricketer Kamran Akmal slams PCB's lack of 'professionalism': 'Learn from BCCI'\",\n",
              " 'No end in sight for Adil Rashid after passing the 200 wickets summit',\n",
              " '\"Haven\\'t thought about retirement yet...\": England\\'s milestone man Adil Rashid following 200 ODI wickets',\n",
              " \"'Got no eye yet on retiring': Adil Rashid aims for 2027 ODI World Cup as he celebrates 200 ODI wickets\",\n",
              " \"Adil Rashid 'Not Thinking About Retirement', Wants To Win World Cup & Champions Titles\",\n",
              " 'How Many Batsmen Have Hit Centuries In Both Innings At Lord’s?',\n",
              " 'Actor Trisha Krishnan settles dispute out of court; Madras HC orders refund of court fee',\n",
              " 'Real Madrid vs Alaves, 2024 La Liga: Predicted lineups',\n",
              " 'Real Madrid Versus Alaves Line Up: Ancelotti Rests A Huge Star And Makes Five Changes',\n",
              " 'Real Madrid vs Deportivo Alaves Live Football Streaming For La Liga 2024-25 Match: How to Watch RM vs ALA C',\n",
              " 'Real Madrid vs Alaves LIVE: Possible lineups and latest updates - LaLiga 24/25',\n",
              " 'CPL 2024: Match 26, TKR vs SLK Match Prediction – Who will win today’s CPL match between TKR vs SLK?',\n",
              " 'Pooran powers TKR to record run chase',\n",
              " 'Trinbago Knight Riders v St Lucia Kings CPL Tips: Kings have strong upset chance',\n",
              " 'First time in more than 20 years! Nicholas Pooran touches massive six-hitting milestone in 2024',\n",
              " \"'Bumrah won't hesitate to claim he's world's No.1 bowler now': Zaheer Khan's towering words for India pacer\",\n",
              " 'Jasprit Bumrah Creates History, Becomes 1st Player In World To...',\n",
              " \"'I Have Scored Some Runs Now': Jasprit Bumrah's Message To Bat Sponsors Goes Viral\",\n",
              " 'Jasprit Bumrah spills the beans behind his terrific Chennai spell against Bangladesh',\n",
              " \"‘I’m selling Virat Kohli. He can go somewhere else for more money. Rohit is Dhoni's sub': Vaughan, Gilchrist's IPL game\",\n",
              " \"'Play MS Dhoni, Sell Virat Kohli, Bench Rohit Sharma': Michael Vaughan stuns cricket fans with 'impossibl\",\n",
              " \"'I Am Getting Rid Of Virat': Former England Cricketer Makes BIG Retention Claim Ahead Of IPL Mega Auction\",\n",
              " \"September 24, Morning Brief: Today's top news and headlines from cricketing world\",\n",
              " 'Shikhar Dhawan returns to cricket with a bang after announcing international retirement',\n",
              " '[Watch] 4, 4, 4 - Shikhar Dhawan Turns Back The Clock With Delightful Shots In LLC 2024',\n",
              " '[Watch] Shikhar Dhawan Brings Back Kabaddi-Style Celebration In Legends League Cricket',\n",
              " '\"Loving every second\" - Shikhar Dhawan thrilled to be back on the field with Legends League Cricket 2024',\n",
              " 'MS Dhoni vs Ravichandran Ashwin: Who Has Better Batting Stats In Test Cricket?',\n",
              " 'Ding-Gukesh match will have surprises in store: Rapport',\n",
              " 'Gukesh is super impressive, Indian chess right up there: Hungarian GM Richard Rapport',\n",
              " 'D Gukesh favourite to clinch World Championship vs Ding Liren, hints Vishy Anand',\n",
              " 'China prevent Gukesh vs Ding Liren battle at Chess Olympiad by resting world champion after defeat in previous round',\n",
              " 'Rohit Sharma To Be Released By MI, 4 Other Shocks That Can Be Expected Before IPL Auction',\n",
              " 'IPL auction likely to be overseas in November',\n",
              " 'IPL 2025: BCCI to Allow Teams Four Retentions Plus Two RTMs, Favouring Continuity Over Major Shake-ups',\n",
              " 'IPL 2025 Mega Auction: 5 star players likely to be released',\n",
              " \"Arsenal win at Man City despite draw, Ter Stegen's injury: Marcotti recaps the weekend\",\n",
              " 'Arsenal fall short against City again despite Arteta’s full embrace of his inner Mourinho',\n",
              " 'Paul Merson Says: Manchester City now fully aware of threat posed by Arsenal in Premier League title race',\n",
              " 'Gain Access All Areas during our Man City draw | Video | News',\n",
              " \"Ricky Ponting 'expected' to wipe out England cricketers worth INR 12-18 crore as first major overhaul in Punjab Kings\",\n",
              " 'Ricky Ponting joins Punjab Kings as Head Coach',\n",
              " 'English Contingent Out, Aussie Pack In?: Aakash Chopra Opines New PBKS Head Coach Ricky Ponting Could Rope',\n",
              " 'All Punjab Kings coaches in IPL history, Ricky Ponting joins the huge 11-member list',\n",
              " 'Source: Haaland avoids sanction for ball throw',\n",
              " 'Red card decision, new punishment - Erling Haaland Man City ban verdict after Arsenal outburst',\n",
              " \"'It's a War And Provocation is...': Gabriel Reacts After Heated Exchange With Haaland\",\n",
              " 'Premier League 2024-25: Wright blasts Man City’s Haaland for throwing ball at Arsenal’s Gabriel',\n",
              " \"Carlos Alcaraz's Laver Cup success is about to have serious knock-on effect\",\n",
              " 'Pioneering Laver Cup Captains Borg and McEnroe sign off',\n",
              " 'Watch: Alexander Zverev reveals hilarious Carlos Alcaraz-led team meeting before Laver Cup win',\n",
              " 'Carlos Alcaraz leads Team Europe to Laver Cup victory against Team World',\n",
              " 'Australia Women Under-19s vs New Zealand Women Under-19s Match 4 2024 Full Scorecard & Updates',\n",
              " 'Australia Women Under-19 Tri-Nation Live Score | Australia Women Under-19 Tri-Nation 2024 News, Updates & Scores',\n",
              " 'AU-WU19 vs SL-WU19 Dream11 Prediction Today Match 5 Women’s Under-19 T20 Tri-Nation 2024',\n",
              " 'AU-WU19 vs NZ-WU19 Dream11 Prediction, Fantasy Cricket Tips, Playing XI, Pitch Report & Injury Updates For Match 4 of Women’s U19 Tri-Series in Australia 2024',\n",
              " 'As County cricket suffers, Lancashire CEO terms BCCI’s domestic diktat ‘fantastic prioritising’',\n",
              " \"'Fantastic prioritising...': Lancashire CEO lauds BCCI's domestic cricket diktat\",\n",
              " \"'That was fantastic prioritising' - Lancashire CEO lauds BCCI's steps towards domestic cricket\",\n",
              " \"Lancashire CEO Daniel Gidney Commends BCCI's Domestic Cricket Prioritisation Amid County Concerns\",\n",
              " \"Rishabh Pant Silences Rohit Sharma's Critics For Not Giving KL Rahul Time to Bat: 'Jisko Jitne Run Banane Hai.\",\n",
              " 'Rohit Sharma Slammed For Declaration Decision, Costing KL Rahul. Rishabh Pant Explains Call',\n",
              " \"Latest Cricket News, Live Updates Today September 24, 2024: Ajit Agarkar told to ignore Ishan Kishan with clear-cut 'no need to think of anybody other than Rishabh Pant' verdict\",\n",
              " 'No matter the conditions, we want to build the team around strong bowling: Rohit Sharma',\n",
              " 'Trent Alexander-Arnold knows trophies mean more at Liverpool than Real Madrid - homegrown star can become an Anfield icon by signing a new contract and winning the Reds more silverware',\n",
              " 'Exclusive: Alexander-Arnold Contract Situation Takes New Twist',\n",
              " 'Alexander-Arnold coy on Liverpool future amid contract uncertainty',\n",
              " 'Silverware Is Key Consideration For Alexander-Arnold Amid Liverpool Contract Talks',\n",
              " 'Lionel Messi to not retire at Inter Miami, decides on sensational future transfer: Report',\n",
              " \"Lionel Messi's Future Destination DISCLOSED: Inter Miami Star Set to Depart MLS, Reports Suggest\",\n",
              " \"Lionel Messi concerned about returning to Argentina but wishes to play for Newell's Old Boys\",\n",
              " 'Lionel Messi To Rejoin Newell’s Old Boys Upon Expiry Of His Inter Miami Contract: Report',\n",
              " 'Three-time UCL winner ready to accept a low-salary one-year contract to join Barcelona',\n",
              " 'Wojciech Szczęsny joins list of goalkeepers linked with Barcelona after Marc-Andre ter Stegen injury',\n",
              " 'Barcelona choose recently-retired goalkeeper to replace Ter Stegen, contacts made',\n",
              " 'Barcelona may tempt ex-Juventus star Szczesny out of retirement after Ter Stegen injury',\n",
              " 'Ab Nahi Sikhega Toh ...\": Ex-Pakistan Star\\'s Warning To Yashasvi Jaiswal',\n",
              " 'Yashasvi Jaiswal Eyes Record Breaking Feat As India Gears Up For 2nd Test Against Bangladesh',\n",
              " '5 Cricketers with most runs after first 10 Tests; Jaiswal joins legendary list',\n",
              " 'IND Vs BAN: Basit Ali Advises Yashasvi Jaiswal To Capitalize On His Opportunities',\n",
              " 'Tight-lipped Mikel Arteta hints Arsenal picked up ‘serious’ injury against Man City as he says ‘we have to...',\n",
              " \"Arteta responds to 'dark arts' taunts by Man City as injuries mount for Arsenal\",\n",
              " 'VIDEO: Trouble for Arsenal? Goalkepeer David Raya seen limping away from Man City draw with bandaged knee',\n",
              " 'FPL team news: Injury updates from Arteta, Slot + more',\n",
              " \"Daniels, 'the answer,' delivers for Commanders\",\n",
              " 'Cincinnati Bengals Face Tough Road Ahead After Disappointing Loss to Commanders Highlighted by Rookie Qua',\n",
              " 'Column | Jayden Daniels just announced himself to the NFL — and to Washington',\n",
              " 'NFL Week 3 Under Review',\n",
              " \"Mystery Behind Shakib Al Hasan's Black Strap vs India Finally Solved. Bangladesh Coach Says...\",\n",
              " 'Shakib trials strap around neck as head-positioning tool in Chennai',\n",
              " 'Shakib Al Hasan wraps black strap around his neck while batting against India in Chennai. Here’s why?',\n",
              " 'EXPLAINED: Why Shakib Al Hasan Was Biting Mysterious Black Strap During IND vs BAN 2nd Test']"
            ]
          },
          "execution_count": 11,
          "metadata": {},
          "output_type": "execute_result"
        }
      ],
      "source": [
        "titles = googlenews.get_texts()\n",
        "\n",
        "titles"
      ]
    },
    {
      "cell_type": "markdown",
      "metadata": {},
      "source": [
        "Let's now install the ChromaDB library. We will use this as our vector database for doing semantic search."
      ]
    },
    {
      "cell_type": "code",
      "execution_count": 12,
      "metadata": {},
      "outputs": [
        {
          "name": "stdout",
          "output_type": "stream",
          "text": [
            "Collecting chromadb\n",
            "  Using cached chromadb-0.5.7-py3-none-any.whl.metadata (6.8 kB)\n",
            "Collecting build>=1.0.3 (from chromadb)\n",
            "  Using cached build-1.2.2-py3-none-any.whl.metadata (6.2 kB)\n",
            "Requirement already satisfied: pydantic>=1.9 in ./.venv/lib/python3.12/site-packages (from chromadb) (2.9.2)\n",
            "Collecting chroma-hnswlib==0.7.6 (from chromadb)\n",
            "  Downloading chroma_hnswlib-0.7.6-cp312-cp312-macosx_11_0_arm64.whl.metadata (252 bytes)\n",
            "Requirement already satisfied: fastapi>=0.95.2 in ./.venv/lib/python3.12/site-packages (from chromadb) (0.115.0)\n",
            "Requirement already satisfied: uvicorn>=0.18.3 in ./.venv/lib/python3.12/site-packages (from uvicorn[standard]>=0.18.3->chromadb) (0.30.6)\n",
            "Requirement already satisfied: numpy>=1.22.5 in ./.venv/lib/python3.12/site-packages (from chromadb) (2.1.1)\n",
            "Collecting posthog>=2.4.0 (from chromadb)\n",
            "  Using cached posthog-3.6.6-py2.py3-none-any.whl.metadata (2.0 kB)\n",
            "Requirement already satisfied: typing-extensions>=4.5.0 in ./.venv/lib/python3.12/site-packages (from chromadb) (4.12.2)\n",
            "Collecting onnxruntime>=1.14.1 (from chromadb)\n",
            "  Downloading onnxruntime-1.19.2-cp312-cp312-macosx_11_0_universal2.whl.metadata (4.5 kB)\n",
            "Collecting opentelemetry-api>=1.2.0 (from chromadb)\n",
            "  Using cached opentelemetry_api-1.27.0-py3-none-any.whl.metadata (1.4 kB)\n",
            "Collecting opentelemetry-exporter-otlp-proto-grpc>=1.2.0 (from chromadb)\n",
            "  Using cached opentelemetry_exporter_otlp_proto_grpc-1.27.0-py3-none-any.whl.metadata (2.3 kB)\n",
            "Collecting opentelemetry-instrumentation-fastapi>=0.41b0 (from chromadb)\n",
            "  Using cached opentelemetry_instrumentation_fastapi-0.48b0-py3-none-any.whl.metadata (2.1 kB)\n",
            "Collecting opentelemetry-sdk>=1.2.0 (from chromadb)\n",
            "  Using cached opentelemetry_sdk-1.27.0-py3-none-any.whl.metadata (1.5 kB)\n",
            "Collecting tokenizers>=0.13.2 (from chromadb)\n",
            "  Downloading tokenizers-0.20.0-cp312-cp312-macosx_11_0_arm64.whl.metadata (6.7 kB)\n",
            "Collecting pypika>=0.48.9 (from chromadb)\n",
            "  Downloading PyPika-0.48.9.tar.gz (67 kB)\n",
            "  Installing build dependencies ... \u001b[?25ldone\n",
            "\u001b[?25h  Getting requirements to build wheel ... \u001b[?25ldone\n",
            "\u001b[?25h  Preparing metadata (pyproject.toml) ... \u001b[?25ldone\n",
            "\u001b[?25hRequirement already satisfied: tqdm>=4.65.0 in ./.venv/lib/python3.12/site-packages (from chromadb) (4.66.5)\n",
            "Collecting overrides>=7.3.1 (from chromadb)\n",
            "  Using cached overrides-7.7.0-py3-none-any.whl.metadata (5.8 kB)\n",
            "Requirement already satisfied: importlib-resources in ./.venv/lib/python3.12/site-packages (from chromadb) (6.4.5)\n",
            "Collecting grpcio>=1.58.0 (from chromadb)\n",
            "  Downloading grpcio-1.66.1-cp312-cp312-macosx_10_9_universal2.whl.metadata (3.9 kB)\n",
            "Collecting bcrypt>=4.0.1 (from chromadb)\n",
            "  Using cached bcrypt-4.2.0-cp39-abi3-macosx_10_12_universal2.whl.metadata (9.6 kB)\n",
            "Requirement already satisfied: typer>=0.9.0 in ./.venv/lib/python3.12/site-packages (from chromadb) (0.12.5)\n",
            "Collecting kubernetes>=28.1.0 (from chromadb)\n",
            "  Using cached kubernetes-31.0.0-py2.py3-none-any.whl.metadata (1.5 kB)\n",
            "Collecting tenacity>=8.2.3 (from chromadb)\n",
            "  Using cached tenacity-9.0.0-py3-none-any.whl.metadata (1.2 kB)\n",
            "Requirement already satisfied: PyYAML>=6.0.0 in ./.venv/lib/python3.12/site-packages (from chromadb) (6.0.2)\n",
            "Collecting mmh3>=4.0.1 (from chromadb)\n",
            "  Downloading mmh3-5.0.1-cp312-cp312-macosx_11_0_arm64.whl.metadata (14 kB)\n",
            "Requirement already satisfied: orjson>=3.9.12 in ./.venv/lib/python3.12/site-packages (from chromadb) (3.10.7)\n",
            "Requirement already satisfied: httpx>=0.27.0 in ./.venv/lib/python3.12/site-packages (from chromadb) (0.27.2)\n",
            "Requirement already satisfied: rich>=10.11.0 in ./.venv/lib/python3.12/site-packages (from chromadb) (13.8.1)\n",
            "Requirement already satisfied: packaging>=19.1 in ./.venv/lib/python3.12/site-packages (from build>=1.0.3->chromadb) (24.1)\n",
            "Collecting pyproject_hooks (from build>=1.0.3->chromadb)\n",
            "  Using cached pyproject_hooks-1.1.0-py3-none-any.whl.metadata (1.3 kB)\n",
            "Requirement already satisfied: starlette<0.39.0,>=0.37.2 in ./.venv/lib/python3.12/site-packages (from fastapi>=0.95.2->chromadb) (0.38.6)\n",
            "Requirement already satisfied: anyio in ./.venv/lib/python3.12/site-packages (from httpx>=0.27.0->chromadb) (4.6.0)\n",
            "Requirement already satisfied: certifi in ./.venv/lib/python3.12/site-packages (from httpx>=0.27.0->chromadb) (2024.8.30)\n",
            "Requirement already satisfied: httpcore==1.* in ./.venv/lib/python3.12/site-packages (from httpx>=0.27.0->chromadb) (1.0.5)\n",
            "Requirement already satisfied: idna in ./.venv/lib/python3.12/site-packages (from httpx>=0.27.0->chromadb) (3.10)\n",
            "Requirement already satisfied: sniffio in ./.venv/lib/python3.12/site-packages (from httpx>=0.27.0->chromadb) (1.3.1)\n",
            "Requirement already satisfied: h11<0.15,>=0.13 in ./.venv/lib/python3.12/site-packages (from httpcore==1.*->httpx>=0.27.0->chromadb) (0.14.0)\n",
            "Requirement already satisfied: six>=1.9.0 in ./.venv/lib/python3.12/site-packages (from kubernetes>=28.1.0->chromadb) (1.16.0)\n",
            "Requirement already satisfied: python-dateutil>=2.5.3 in ./.venv/lib/python3.12/site-packages (from kubernetes>=28.1.0->chromadb) (2.9.0.post0)\n",
            "Collecting google-auth>=1.0.1 (from kubernetes>=28.1.0->chromadb)\n",
            "  Using cached google_auth-2.35.0-py2.py3-none-any.whl.metadata (4.7 kB)\n",
            "Collecting websocket-client!=0.40.0,!=0.41.*,!=0.42.*,>=0.32.0 (from kubernetes>=28.1.0->chromadb)\n",
            "  Using cached websocket_client-1.8.0-py3-none-any.whl.metadata (8.0 kB)\n",
            "Requirement already satisfied: requests in ./.venv/lib/python3.12/site-packages (from kubernetes>=28.1.0->chromadb) (2.32.3)\n",
            "Collecting requests-oauthlib (from kubernetes>=28.1.0->chromadb)\n",
            "  Using cached requests_oauthlib-2.0.0-py2.py3-none-any.whl.metadata (11 kB)\n",
            "Collecting oauthlib>=3.2.2 (from kubernetes>=28.1.0->chromadb)\n",
            "  Using cached oauthlib-3.2.2-py3-none-any.whl.metadata (7.5 kB)\n",
            "Requirement already satisfied: urllib3>=1.24.2 in ./.venv/lib/python3.12/site-packages (from kubernetes>=28.1.0->chromadb) (2.2.3)\n",
            "Collecting durationpy>=0.7 (from kubernetes>=28.1.0->chromadb)\n",
            "  Downloading durationpy-0.7.tar.gz (3.2 kB)\n",
            "  Installing build dependencies ... \u001b[?25ldone\n",
            "\u001b[?25h  Getting requirements to build wheel ... \u001b[?25ldone\n",
            "\u001b[?25h  Preparing metadata (pyproject.toml) ... \u001b[?25ldone\n",
            "\u001b[?25hCollecting coloredlogs (from onnxruntime>=1.14.1->chromadb)\n",
            "  Using cached coloredlogs-15.0.1-py2.py3-none-any.whl.metadata (12 kB)\n",
            "Collecting flatbuffers (from onnxruntime>=1.14.1->chromadb)\n",
            "  Using cached flatbuffers-24.3.25-py2.py3-none-any.whl.metadata (850 bytes)\n",
            "Collecting protobuf (from onnxruntime>=1.14.1->chromadb)\n",
            "  Using cached protobuf-5.28.2-cp38-abi3-macosx_10_9_universal2.whl.metadata (592 bytes)\n",
            "Collecting sympy (from onnxruntime>=1.14.1->chromadb)\n",
            "  Using cached sympy-1.13.3-py3-none-any.whl.metadata (12 kB)\n",
            "Collecting deprecated>=1.2.6 (from opentelemetry-api>=1.2.0->chromadb)\n",
            "  Using cached Deprecated-1.2.14-py2.py3-none-any.whl.metadata (5.4 kB)\n",
            "Collecting importlib-metadata<=8.4.0,>=6.0 (from opentelemetry-api>=1.2.0->chromadb)\n",
            "  Using cached importlib_metadata-8.4.0-py3-none-any.whl.metadata (4.7 kB)\n",
            "Collecting googleapis-common-protos~=1.52 (from opentelemetry-exporter-otlp-proto-grpc>=1.2.0->chromadb)\n",
            "  Using cached googleapis_common_protos-1.65.0-py2.py3-none-any.whl.metadata (1.5 kB)\n",
            "Collecting opentelemetry-exporter-otlp-proto-common==1.27.0 (from opentelemetry-exporter-otlp-proto-grpc>=1.2.0->chromadb)\n",
            "  Using cached opentelemetry_exporter_otlp_proto_common-1.27.0-py3-none-any.whl.metadata (1.8 kB)\n",
            "Collecting opentelemetry-proto==1.27.0 (from opentelemetry-exporter-otlp-proto-grpc>=1.2.0->chromadb)\n",
            "  Using cached opentelemetry_proto-1.27.0-py3-none-any.whl.metadata (2.3 kB)\n",
            "Collecting protobuf (from onnxruntime>=1.14.1->chromadb)\n",
            "  Using cached protobuf-4.25.5-cp37-abi3-macosx_10_9_universal2.whl.metadata (541 bytes)\n",
            "Collecting opentelemetry-instrumentation-asgi==0.48b0 (from opentelemetry-instrumentation-fastapi>=0.41b0->chromadb)\n",
            "  Using cached opentelemetry_instrumentation_asgi-0.48b0-py3-none-any.whl.metadata (2.0 kB)\n",
            "Collecting opentelemetry-instrumentation==0.48b0 (from opentelemetry-instrumentation-fastapi>=0.41b0->chromadb)\n",
            "  Using cached opentelemetry_instrumentation-0.48b0-py3-none-any.whl.metadata (6.1 kB)\n",
            "Collecting opentelemetry-semantic-conventions==0.48b0 (from opentelemetry-instrumentation-fastapi>=0.41b0->chromadb)\n",
            "  Using cached opentelemetry_semantic_conventions-0.48b0-py3-none-any.whl.metadata (2.4 kB)\n",
            "Collecting opentelemetry-util-http==0.48b0 (from opentelemetry-instrumentation-fastapi>=0.41b0->chromadb)\n",
            "  Using cached opentelemetry_util_http-0.48b0-py3-none-any.whl.metadata (2.5 kB)\n",
            "Collecting setuptools>=16.0 (from opentelemetry-instrumentation==0.48b0->opentelemetry-instrumentation-fastapi>=0.41b0->chromadb)\n",
            "  Using cached setuptools-75.1.0-py3-none-any.whl.metadata (6.9 kB)\n",
            "Collecting wrapt<2.0.0,>=1.0.0 (from opentelemetry-instrumentation==0.48b0->opentelemetry-instrumentation-fastapi>=0.41b0->chromadb)\n",
            "  Downloading wrapt-1.16.0-cp312-cp312-macosx_11_0_arm64.whl.metadata (6.6 kB)\n",
            "Collecting asgiref~=3.0 (from opentelemetry-instrumentation-asgi==0.48b0->opentelemetry-instrumentation-fastapi>=0.41b0->chromadb)\n",
            "  Using cached asgiref-3.8.1-py3-none-any.whl.metadata (9.3 kB)\n",
            "Collecting monotonic>=1.5 (from posthog>=2.4.0->chromadb)\n",
            "  Using cached monotonic-1.6-py2.py3-none-any.whl.metadata (1.5 kB)\n",
            "Collecting backoff>=1.10.0 (from posthog>=2.4.0->chromadb)\n",
            "  Using cached backoff-2.2.1-py3-none-any.whl.metadata (14 kB)\n",
            "Requirement already satisfied: annotated-types>=0.6.0 in ./.venv/lib/python3.12/site-packages (from pydantic>=1.9->chromadb) (0.7.0)\n",
            "Requirement already satisfied: pydantic-core==2.23.4 in ./.venv/lib/python3.12/site-packages (from pydantic>=1.9->chromadb) (2.23.4)\n",
            "Requirement already satisfied: markdown-it-py>=2.2.0 in ./.venv/lib/python3.12/site-packages (from rich>=10.11.0->chromadb) (3.0.0)\n",
            "Requirement already satisfied: pygments<3.0.0,>=2.13.0 in ./.venv/lib/python3.12/site-packages (from rich>=10.11.0->chromadb) (2.18.0)\n",
            "Requirement already satisfied: huggingface-hub<1.0,>=0.16.4 in ./.venv/lib/python3.12/site-packages (from tokenizers>=0.13.2->chromadb) (0.25.1)\n",
            "Requirement already satisfied: click>=8.0.0 in ./.venv/lib/python3.12/site-packages (from typer>=0.9.0->chromadb) (8.1.7)\n",
            "Requirement already satisfied: shellingham>=1.3.0 in ./.venv/lib/python3.12/site-packages (from typer>=0.9.0->chromadb) (1.5.4)\n",
            "Collecting httptools>=0.5.0 (from uvicorn[standard]>=0.18.3->chromadb)\n",
            "  Downloading httptools-0.6.1-cp312-cp312-macosx_10_9_universal2.whl.metadata (3.6 kB)\n",
            "Collecting python-dotenv>=0.13 (from uvicorn[standard]>=0.18.3->chromadb)\n",
            "  Using cached python_dotenv-1.0.1-py3-none-any.whl.metadata (23 kB)\n",
            "Collecting uvloop!=0.15.0,!=0.15.1,>=0.14.0 (from uvicorn[standard]>=0.18.3->chromadb)\n",
            "  Downloading uvloop-0.20.0-cp312-cp312-macosx_10_9_universal2.whl.metadata (4.9 kB)\n",
            "Collecting watchfiles>=0.13 (from uvicorn[standard]>=0.18.3->chromadb)\n",
            "  Downloading watchfiles-0.24.0-cp312-cp312-macosx_11_0_arm64.whl.metadata (4.9 kB)\n",
            "Requirement already satisfied: websockets>=10.4 in ./.venv/lib/python3.12/site-packages (from uvicorn[standard]>=0.18.3->chromadb) (12.0)\n",
            "Collecting cachetools<6.0,>=2.0.0 (from google-auth>=1.0.1->kubernetes>=28.1.0->chromadb)\n",
            "  Using cached cachetools-5.5.0-py3-none-any.whl.metadata (5.3 kB)\n",
            "Collecting pyasn1-modules>=0.2.1 (from google-auth>=1.0.1->kubernetes>=28.1.0->chromadb)\n",
            "  Using cached pyasn1_modules-0.4.1-py3-none-any.whl.metadata (3.5 kB)\n",
            "Collecting rsa<5,>=3.1.4 (from google-auth>=1.0.1->kubernetes>=28.1.0->chromadb)\n",
            "  Using cached rsa-4.9-py3-none-any.whl.metadata (4.2 kB)\n",
            "Requirement already satisfied: filelock in ./.venv/lib/python3.12/site-packages (from huggingface-hub<1.0,>=0.16.4->tokenizers>=0.13.2->chromadb) (3.16.1)\n",
            "Requirement already satisfied: fsspec>=2023.5.0 in ./.venv/lib/python3.12/site-packages (from huggingface-hub<1.0,>=0.16.4->tokenizers>=0.13.2->chromadb) (2024.9.0)\n",
            "Collecting zipp>=0.5 (from importlib-metadata<=8.4.0,>=6.0->opentelemetry-api>=1.2.0->chromadb)\n",
            "  Using cached zipp-3.20.2-py3-none-any.whl.metadata (3.7 kB)\n",
            "Requirement already satisfied: mdurl~=0.1 in ./.venv/lib/python3.12/site-packages (from markdown-it-py>=2.2.0->rich>=10.11.0->chromadb) (0.1.2)\n",
            "Requirement already satisfied: charset-normalizer<4,>=2 in ./.venv/lib/python3.12/site-packages (from requests->kubernetes>=28.1.0->chromadb) (3.3.2)\n",
            "Collecting humanfriendly>=9.1 (from coloredlogs->onnxruntime>=1.14.1->chromadb)\n",
            "  Using cached humanfriendly-10.0-py2.py3-none-any.whl.metadata (9.2 kB)\n",
            "Collecting mpmath<1.4,>=1.1.0 (from sympy->onnxruntime>=1.14.1->chromadb)\n",
            "  Using cached mpmath-1.3.0-py3-none-any.whl.metadata (8.6 kB)\n",
            "Collecting pyasn1<0.7.0,>=0.4.6 (from pyasn1-modules>=0.2.1->google-auth>=1.0.1->kubernetes>=28.1.0->chromadb)\n",
            "  Using cached pyasn1-0.6.1-py3-none-any.whl.metadata (8.4 kB)\n",
            "Using cached chromadb-0.5.7-py3-none-any.whl (599 kB)\n",
            "Downloading chroma_hnswlib-0.7.6-cp312-cp312-macosx_11_0_arm64.whl (185 kB)\n",
            "Using cached bcrypt-4.2.0-cp39-abi3-macosx_10_12_universal2.whl (472 kB)\n",
            "Using cached build-1.2.2-py3-none-any.whl (22 kB)\n",
            "Downloading grpcio-1.66.1-cp312-cp312-macosx_10_9_universal2.whl (10.6 MB)\n",
            "\u001b[2K   \u001b[90m━━━━━━━━━━━━━━━━━━━━━━━━━━━━━━━━━━━━━━━━\u001b[0m \u001b[32m10.6/10.6 MB\u001b[0m \u001b[31m37.9 MB/s\u001b[0m eta \u001b[36m0:00:00\u001b[0m \u001b[36m0:00:01\u001b[0m\n",
            "\u001b[?25hUsing cached kubernetes-31.0.0-py2.py3-none-any.whl (1.9 MB)\n",
            "Downloading mmh3-5.0.1-cp312-cp312-macosx_11_0_arm64.whl (38 kB)\n",
            "Downloading onnxruntime-1.19.2-cp312-cp312-macosx_11_0_universal2.whl (16.8 MB)\n",
            "\u001b[2K   \u001b[90m━━━━━━━━━━━━━━━━━━━━━━━━━━━━━━━━━━━━━━━━\u001b[0m \u001b[32m16.8/16.8 MB\u001b[0m \u001b[31m35.9 MB/s\u001b[0m eta \u001b[36m0:00:00\u001b[0ma \u001b[36m0:00:01\u001b[0m\n",
            "\u001b[?25hUsing cached opentelemetry_api-1.27.0-py3-none-any.whl (63 kB)\n",
            "Using cached opentelemetry_exporter_otlp_proto_grpc-1.27.0-py3-none-any.whl (18 kB)\n",
            "Using cached opentelemetry_exporter_otlp_proto_common-1.27.0-py3-none-any.whl (17 kB)\n",
            "Using cached opentelemetry_proto-1.27.0-py3-none-any.whl (52 kB)\n",
            "Using cached opentelemetry_instrumentation_fastapi-0.48b0-py3-none-any.whl (11 kB)\n",
            "Using cached opentelemetry_instrumentation-0.48b0-py3-none-any.whl (29 kB)\n",
            "Using cached opentelemetry_instrumentation_asgi-0.48b0-py3-none-any.whl (15 kB)\n",
            "Using cached opentelemetry_semantic_conventions-0.48b0-py3-none-any.whl (149 kB)\n",
            "Using cached opentelemetry_util_http-0.48b0-py3-none-any.whl (6.9 kB)\n",
            "Using cached opentelemetry_sdk-1.27.0-py3-none-any.whl (110 kB)\n",
            "Using cached overrides-7.7.0-py3-none-any.whl (17 kB)\n",
            "Using cached posthog-3.6.6-py2.py3-none-any.whl (54 kB)\n",
            "Using cached tenacity-9.0.0-py3-none-any.whl (28 kB)\n",
            "Downloading tokenizers-0.20.0-cp312-cp312-macosx_11_0_arm64.whl (2.5 MB)\n",
            "\u001b[2K   \u001b[90m━━━━━━━━━━━━━━━━━━━━━━━━━━━━━━━━━━━━━━━━\u001b[0m \u001b[32m2.5/2.5 MB\u001b[0m \u001b[31m21.1 MB/s\u001b[0m eta \u001b[36m0:00:00\u001b[0m\n",
            "\u001b[?25hUsing cached backoff-2.2.1-py3-none-any.whl (15 kB)\n",
            "Using cached Deprecated-1.2.14-py2.py3-none-any.whl (9.6 kB)\n",
            "Using cached google_auth-2.35.0-py2.py3-none-any.whl (208 kB)\n",
            "Using cached googleapis_common_protos-1.65.0-py2.py3-none-any.whl (220 kB)\n",
            "Downloading httptools-0.6.1-cp312-cp312-macosx_10_9_universal2.whl (146 kB)\n",
            "Using cached importlib_metadata-8.4.0-py3-none-any.whl (26 kB)\n",
            "Using cached monotonic-1.6-py2.py3-none-any.whl (8.2 kB)\n",
            "Using cached oauthlib-3.2.2-py3-none-any.whl (151 kB)\n",
            "Using cached protobuf-4.25.5-cp37-abi3-macosx_10_9_universal2.whl (394 kB)\n",
            "Using cached python_dotenv-1.0.1-py3-none-any.whl (19 kB)\n",
            "Downloading uvloop-0.20.0-cp312-cp312-macosx_10_9_universal2.whl (1.3 MB)\n",
            "\u001b[2K   \u001b[90m━━━━━━━━━━━━━━━━━━━━━━━━━━━━━━━━━━━━━━━━\u001b[0m \u001b[32m1.3/1.3 MB\u001b[0m \u001b[31m23.3 MB/s\u001b[0m eta \u001b[36m0:00:00\u001b[0m\n",
            "\u001b[?25hDownloading watchfiles-0.24.0-cp312-cp312-macosx_11_0_arm64.whl (367 kB)\n",
            "Using cached websocket_client-1.8.0-py3-none-any.whl (58 kB)\n",
            "Using cached coloredlogs-15.0.1-py2.py3-none-any.whl (46 kB)\n",
            "Using cached flatbuffers-24.3.25-py2.py3-none-any.whl (26 kB)\n",
            "Using cached pyproject_hooks-1.1.0-py3-none-any.whl (9.2 kB)\n",
            "Using cached requests_oauthlib-2.0.0-py2.py3-none-any.whl (24 kB)\n",
            "Using cached sympy-1.13.3-py3-none-any.whl (6.2 MB)\n",
            "Using cached asgiref-3.8.1-py3-none-any.whl (23 kB)\n",
            "Using cached cachetools-5.5.0-py3-none-any.whl (9.5 kB)\n",
            "Using cached humanfriendly-10.0-py2.py3-none-any.whl (86 kB)\n",
            "Using cached mpmath-1.3.0-py3-none-any.whl (536 kB)\n",
            "Using cached pyasn1_modules-0.4.1-py3-none-any.whl (181 kB)\n",
            "Using cached rsa-4.9-py3-none-any.whl (34 kB)\n",
            "Using cached setuptools-75.1.0-py3-none-any.whl (1.2 MB)\n",
            "Downloading wrapt-1.16.0-cp312-cp312-macosx_11_0_arm64.whl (38 kB)\n",
            "Using cached zipp-3.20.2-py3-none-any.whl (9.2 kB)\n",
            "Using cached pyasn1-0.6.1-py3-none-any.whl (83 kB)\n",
            "Building wheels for collected packages: pypika, durationpy\n",
            "  Building wheel for pypika (pyproject.toml) ... \u001b[?25ldone\n",
            "\u001b[?25h  Created wheel for pypika: filename=PyPika-0.48.9-py2.py3-none-any.whl size=53723 sha256=0d59f009f136f7d9fb76ca5e05650bb35b7b0e2b5eaabc32e90fdecf9248875e\n",
            "  Stored in directory: /Users/rajesh/Library/Caches/pip/wheels/d5/3d/69/8d68d249cd3de2584f226e27fd431d6344f7d70fd856ebd01b\n",
            "  Building wheel for durationpy (pyproject.toml) ... \u001b[?25ldone\n",
            "\u001b[?25h  Created wheel for durationpy: filename=durationpy-0.7-py3-none-any.whl size=3463 sha256=c24f078300239312906b8355c0e77b6171b7f5de8917c752f0226f7330a11980\n",
            "  Stored in directory: /Users/rajesh/Library/Caches/pip/wheels/e3/ea/4b/435e7753cf275e9e19f402e4bf79057a67bb5222147d3904b5\n",
            "Successfully built pypika durationpy\n",
            "Installing collected packages: pypika, mpmath, monotonic, flatbuffers, durationpy, zipp, wrapt, websocket-client, uvloop, tenacity, sympy, setuptools, python-dotenv, pyproject_hooks, pyasn1, protobuf, overrides, opentelemetry-util-http, oauthlib, mmh3, humanfriendly, httptools, grpcio, chroma-hnswlib, cachetools, bcrypt, backoff, asgiref, watchfiles, rsa, requests-oauthlib, pyasn1-modules, posthog, opentelemetry-proto, importlib-metadata, googleapis-common-protos, deprecated, coloredlogs, build, tokenizers, opentelemetry-exporter-otlp-proto-common, opentelemetry-api, onnxruntime, google-auth, opentelemetry-semantic-conventions, opentelemetry-instrumentation, kubernetes, opentelemetry-sdk, opentelemetry-instrumentation-asgi, opentelemetry-instrumentation-fastapi, opentelemetry-exporter-otlp-proto-grpc, chromadb\n",
            "Successfully installed asgiref-3.8.1 backoff-2.2.1 bcrypt-4.2.0 build-1.2.2 cachetools-5.5.0 chroma-hnswlib-0.7.6 chromadb-0.5.7 coloredlogs-15.0.1 deprecated-1.2.14 durationpy-0.7 flatbuffers-24.3.25 google-auth-2.35.0 googleapis-common-protos-1.65.0 grpcio-1.66.1 httptools-0.6.1 humanfriendly-10.0 importlib-metadata-8.4.0 kubernetes-31.0.0 mmh3-5.0.1 monotonic-1.6 mpmath-1.3.0 oauthlib-3.2.2 onnxruntime-1.19.2 opentelemetry-api-1.27.0 opentelemetry-exporter-otlp-proto-common-1.27.0 opentelemetry-exporter-otlp-proto-grpc-1.27.0 opentelemetry-instrumentation-0.48b0 opentelemetry-instrumentation-asgi-0.48b0 opentelemetry-instrumentation-fastapi-0.48b0 opentelemetry-proto-1.27.0 opentelemetry-sdk-1.27.0 opentelemetry-semantic-conventions-0.48b0 opentelemetry-util-http-0.48b0 overrides-7.7.0 posthog-3.6.6 protobuf-4.25.5 pyasn1-0.6.1 pyasn1-modules-0.4.1 pypika-0.48.9 pyproject_hooks-1.1.0 python-dotenv-1.0.1 requests-oauthlib-2.0.0 rsa-4.9 setuptools-75.1.0 sympy-1.13.3 tenacity-9.0.0 tokenizers-0.20.0 uvloop-0.20.0 watchfiles-0.24.0 websocket-client-1.8.0 wrapt-1.16.0 zipp-3.20.2\n"
          ]
        }
      ],
      "source": [
        "!pip install chromadb"
      ]
    },
    {
      "cell_type": "markdown",
      "metadata": {},
      "source": [
        "Initialize the ChromaDB object. Also setup the connection."
      ]
    },
    {
      "cell_type": "code",
      "execution_count": 13,
      "metadata": {},
      "outputs": [],
      "source": [
        "import chromadb\n",
        "# setup Chroma in-memory, for easy prototyping. Can add persistence easily!\n",
        "client = chromadb.Client()\n",
        "\n",
        "# Create collection. get_collection, get_or_create_collection, delete_collection also available!\n",
        "collection = client.create_collection(\"all-my-documents\")"
      ]
    },
    {
      "cell_type": "markdown",
      "metadata": {},
      "source": [
        "We need the ids for the titles from the news. So, we will create a list of ids."
      ]
    },
    {
      "cell_type": "code",
      "execution_count": 22,
      "metadata": {},
      "outputs": [],
      "source": [
        "# create ids for injecting documents they will be index of the title for now in string format\n",
        "ids = [str(i) for i in range(len(titles))]"
      ]
    },
    {
      "cell_type": "markdown",
      "metadata": {},
      "source": [
        "And metadata for the titles."
      ]
    },
    {
      "cell_type": "code",
      "execution_count": 27,
      "metadata": {},
      "outputs": [],
      "source": [
        "# list of metadata for each title, for now each title metadata is just dictionary with index as key and title as value\n",
        "title_metadata = [{str(i): title} for i, title in enumerate(titles)]"
      ]
    },
    {
      "cell_type": "markdown",
      "metadata": {},
      "source": [
        "We insert the vectors into the ChromaDB."
      ]
    },
    {
      "cell_type": "code",
      "execution_count": 29,
      "metadata": {},
      "outputs": [],
      "source": [
        "# Add docs to the collection. Can also update and delete. Row-based API coming soon!\n",
        "collection.add(\n",
        "    documents=titles, # we handle tokenization, embedding, and indexing automatically. You can skip that and add your own embeddings as well\n",
        "    metadatas= title_metadata, # filter on these!\n",
        "    ids=ids, # unique for each doc\n",
        ")"
      ]
    },
    {
      "cell_type": "markdown",
      "metadata": {},
      "source": [
        "Now, we can query the ChromaDB for the similar titles."
      ]
    },
    {
      "cell_type": "code",
      "execution_count": 41,
      "metadata": {},
      "outputs": [],
      "source": [
        "# Query/search 2 most similar results. You can also .get by id\n",
        "results = collection.query(\n",
        "    query_texts=[\"What is happening with test matches?\"],  # query text\"],\n",
        "    n_results=2,\n",
        "    # where={\"metadata_field\": \"is_equal_to_this\"}, # optional filter\n",
        "    # where_document={\"$contains\":\"search_string\"}  # optional filter\n",
        ")"
      ]
    },
    {
      "cell_type": "markdown",
      "metadata": {},
      "source": [
        "And we can see that we can now get the similar titles."
      ]
    },
    {
      "cell_type": "code",
      "execution_count": 43,
      "metadata": {},
      "outputs": [
        {
          "data": {
            "text/plain": [
              "{'ids': [['23', '22']],\n",
              " 'distances': [[1.0741010904312134, 1.1105579137802124]],\n",
              " 'metadatas': [[{'23': \"More wins than loses: Tracing India's incredible Test cricket journey\"},\n",
              "   {'22': 'World Test Championship: India tightens grip on top spot'}]],\n",
              " 'embeddings': None,\n",
              " 'documents': [[\"More wins than loses: Tracing India's incredible Test cricket journey\",\n",
              "   'World Test Championship: India tightens grip on top spot']],\n",
              " 'uris': None,\n",
              " 'data': None,\n",
              " 'included': ['metadatas', 'documents', 'distances']}"
            ]
          },
          "execution_count": 43,
          "metadata": {},
          "output_type": "execute_result"
        }
      ],
      "source": [
        "results"
      ]
    },
    {
      "cell_type": "markdown",
      "metadata": {},
      "source": [
        "Let's dump the output to a json variable."
      ]
    },
    {
      "cell_type": "code",
      "execution_count": 44,
      "metadata": {},
      "outputs": [],
      "source": [
        "import json\n",
        "context = json.dumps(results[\"documents\"]);"
      ]
    },
    {
      "cell_type": "code",
      "execution_count": 45,
      "metadata": {},
      "outputs": [
        {
          "data": {
            "text/plain": [
              "'[[\"More wins than loses: Tracing India\\'s incredible Test cricket journey\", \"World Test Championship: India tightens grip on top spot\"]]'"
            ]
          },
          "execution_count": 45,
          "metadata": {},
          "output_type": "execute_result"
        }
      ],
      "source": [
        "context"
      ]
    },
    {
      "cell_type": "markdown",
      "metadata": {},
      "source": [
        "Let's now setup the OpenAI API key."
      ]
    },
    {
      "cell_type": "code",
      "execution_count": 34,
      "metadata": {},
      "outputs": [
        {
          "name": "stderr",
          "output_type": "stream",
          "text": [
            "huggingface/tokenizers: The current process just got forked, after parallelism has already been used. Disabling parallelism to avoid deadlocks...\n",
            "To disable this warning, you can either:\n",
            "\t- Avoid using `tokenizers` before the fork if possible\n",
            "\t- Explicitly set the environment variable TOKENIZERS_PARALLELISM=(true | false)\n"
          ]
        }
      ],
      "source": [
        "import getpass\n",
        "openai_key = getpass.getpass(\"Enter your OpenAI key: \")\n",
        "\n",
        "!export OPENAI_API_KEY=$openai_key"
      ]
    },
    {
      "cell_type": "markdown",
      "metadata": {},
      "source": [
        "Download the Langchain OpenAI library."
      ]
    },
    {
      "cell_type": "code",
      "execution_count": 35,
      "metadata": {},
      "outputs": [
        {
          "name": "stderr",
          "output_type": "stream",
          "text": [
            "huggingface/tokenizers: The current process just got forked, after parallelism has already been used. Disabling parallelism to avoid deadlocks...\n",
            "To disable this warning, you can either:\n",
            "\t- Avoid using `tokenizers` before the fork if possible\n",
            "\t- Explicitly set the environment variable TOKENIZERS_PARALLELISM=(true | false)\n"
          ]
        },
        {
          "name": "stdout",
          "output_type": "stream",
          "text": [
            "Collecting langchain-openai\n",
            "  Using cached langchain_openai-0.2.0-py3-none-any.whl.metadata (2.6 kB)\n",
            "Collecting langchain-core<0.4,>=0.3 (from langchain-openai)\n",
            "  Downloading langchain_core-0.3.5-py3-none-any.whl.metadata (6.3 kB)\n",
            "Collecting openai<2.0.0,>=1.40.0 (from langchain-openai)\n",
            "  Downloading openai-1.47.1-py3-none-any.whl.metadata (24 kB)\n",
            "Collecting tiktoken<1,>=0.7 (from langchain-openai)\n",
            "  Using cached tiktoken-0.7.0-cp312-cp312-macosx_11_0_arm64.whl.metadata (6.6 kB)\n",
            "Requirement already satisfied: PyYAML>=5.3 in ./.venv/lib/python3.12/site-packages (from langchain-core<0.4,>=0.3->langchain-openai) (6.0.2)\n",
            "Collecting jsonpatch<2.0,>=1.33 (from langchain-core<0.4,>=0.3->langchain-openai)\n",
            "  Using cached jsonpatch-1.33-py2.py3-none-any.whl.metadata (3.0 kB)\n",
            "Collecting langsmith<0.2.0,>=0.1.125 (from langchain-core<0.4,>=0.3->langchain-openai)\n",
            "  Downloading langsmith-0.1.126-py3-none-any.whl.metadata (13 kB)\n",
            "Requirement already satisfied: packaging<25,>=23.2 in ./.venv/lib/python3.12/site-packages (from langchain-core<0.4,>=0.3->langchain-openai) (24.1)\n",
            "Requirement already satisfied: pydantic<3.0.0,>=2.7.4 in ./.venv/lib/python3.12/site-packages (from langchain-core<0.4,>=0.3->langchain-openai) (2.9.2)\n",
            "Collecting tenacity!=8.4.0,<9.0.0,>=8.1.0 (from langchain-core<0.4,>=0.3->langchain-openai)\n",
            "  Using cached tenacity-8.5.0-py3-none-any.whl.metadata (1.2 kB)\n",
            "Requirement already satisfied: typing-extensions>=4.7 in ./.venv/lib/python3.12/site-packages (from langchain-core<0.4,>=0.3->langchain-openai) (4.12.2)\n",
            "Requirement already satisfied: anyio<5,>=3.5.0 in ./.venv/lib/python3.12/site-packages (from openai<2.0.0,>=1.40.0->langchain-openai) (4.6.0)\n",
            "Collecting distro<2,>=1.7.0 (from openai<2.0.0,>=1.40.0->langchain-openai)\n",
            "  Using cached distro-1.9.0-py3-none-any.whl.metadata (6.8 kB)\n",
            "Requirement already satisfied: httpx<1,>=0.23.0 in ./.venv/lib/python3.12/site-packages (from openai<2.0.0,>=1.40.0->langchain-openai) (0.27.2)\n",
            "Collecting jiter<1,>=0.4.0 (from openai<2.0.0,>=1.40.0->langchain-openai)\n",
            "  Using cached jiter-0.5.0-cp312-cp312-macosx_11_0_arm64.whl.metadata (3.6 kB)\n",
            "Requirement already satisfied: sniffio in ./.venv/lib/python3.12/site-packages (from openai<2.0.0,>=1.40.0->langchain-openai) (1.3.1)\n",
            "Requirement already satisfied: tqdm>4 in ./.venv/lib/python3.12/site-packages (from openai<2.0.0,>=1.40.0->langchain-openai) (4.66.5)\n",
            "Requirement already satisfied: regex>=2022.1.18 in ./.venv/lib/python3.12/site-packages (from tiktoken<1,>=0.7->langchain-openai) (2024.9.11)\n",
            "Requirement already satisfied: requests>=2.26.0 in ./.venv/lib/python3.12/site-packages (from tiktoken<1,>=0.7->langchain-openai) (2.32.3)\n",
            "Requirement already satisfied: idna>=2.8 in ./.venv/lib/python3.12/site-packages (from anyio<5,>=3.5.0->openai<2.0.0,>=1.40.0->langchain-openai) (3.10)\n",
            "Requirement already satisfied: certifi in ./.venv/lib/python3.12/site-packages (from httpx<1,>=0.23.0->openai<2.0.0,>=1.40.0->langchain-openai) (2024.8.30)\n",
            "Requirement already satisfied: httpcore==1.* in ./.venv/lib/python3.12/site-packages (from httpx<1,>=0.23.0->openai<2.0.0,>=1.40.0->langchain-openai) (1.0.5)\n",
            "Requirement already satisfied: h11<0.15,>=0.13 in ./.venv/lib/python3.12/site-packages (from httpcore==1.*->httpx<1,>=0.23.0->openai<2.0.0,>=1.40.0->langchain-openai) (0.14.0)\n",
            "Collecting jsonpointer>=1.9 (from jsonpatch<2.0,>=1.33->langchain-core<0.4,>=0.3->langchain-openai)\n",
            "  Using cached jsonpointer-3.0.0-py2.py3-none-any.whl.metadata (2.3 kB)\n",
            "Requirement already satisfied: orjson<4.0.0,>=3.9.14 in ./.venv/lib/python3.12/site-packages (from langsmith<0.2.0,>=0.1.125->langchain-core<0.4,>=0.3->langchain-openai) (3.10.7)\n",
            "Requirement already satisfied: annotated-types>=0.6.0 in ./.venv/lib/python3.12/site-packages (from pydantic<3.0.0,>=2.7.4->langchain-core<0.4,>=0.3->langchain-openai) (0.7.0)\n",
            "Requirement already satisfied: pydantic-core==2.23.4 in ./.venv/lib/python3.12/site-packages (from pydantic<3.0.0,>=2.7.4->langchain-core<0.4,>=0.3->langchain-openai) (2.23.4)\n",
            "Requirement already satisfied: charset-normalizer<4,>=2 in ./.venv/lib/python3.12/site-packages (from requests>=2.26.0->tiktoken<1,>=0.7->langchain-openai) (3.3.2)\n",
            "Requirement already satisfied: urllib3<3,>=1.21.1 in ./.venv/lib/python3.12/site-packages (from requests>=2.26.0->tiktoken<1,>=0.7->langchain-openai) (2.2.3)\n",
            "Using cached langchain_openai-0.2.0-py3-none-any.whl (51 kB)\n",
            "Downloading langchain_core-0.3.5-py3-none-any.whl (399 kB)\n",
            "Downloading openai-1.47.1-py3-none-any.whl (375 kB)\n",
            "Using cached tiktoken-0.7.0-cp312-cp312-macosx_11_0_arm64.whl (906 kB)\n",
            "Using cached distro-1.9.0-py3-none-any.whl (20 kB)\n",
            "Using cached jiter-0.5.0-cp312-cp312-macosx_11_0_arm64.whl (296 kB)\n",
            "Using cached jsonpatch-1.33-py2.py3-none-any.whl (12 kB)\n",
            "Downloading langsmith-0.1.126-py3-none-any.whl (290 kB)\n",
            "Using cached tenacity-8.5.0-py3-none-any.whl (28 kB)\n",
            "Using cached jsonpointer-3.0.0-py2.py3-none-any.whl (7.6 kB)\n",
            "Installing collected packages: tenacity, jsonpointer, jiter, distro, tiktoken, jsonpatch, openai, langsmith, langchain-core, langchain-openai\n",
            "  Attempting uninstall: tenacity\n",
            "    Found existing installation: tenacity 9.0.0\n",
            "    Uninstalling tenacity-9.0.0:\n",
            "      Successfully uninstalled tenacity-9.0.0\n",
            "Successfully installed distro-1.9.0 jiter-0.5.0 jsonpatch-1.33 jsonpointer-3.0.0 langchain-core-0.3.5 langchain-openai-0.2.0 langsmith-0.1.126 openai-1.47.1 tenacity-8.5.0 tiktoken-0.7.0\n"
          ]
        }
      ],
      "source": [
        "!pip install langchain-openai"
      ]
    },
    {
      "cell_type": "markdown",
      "metadata": {},
      "source": [
        "Now we can setup the prompts and parameters for the RAG model."
      ]
    },
    {
      "cell_type": "code",
      "execution_count": 46,
      "metadata": {},
      "outputs": [
        {
          "data": {
            "text/plain": [
              "'\\nCurrently, India has had more wins than losses in Test cricket and is also dominating the World Test Championship.'"
            ]
          },
          "execution_count": 46,
          "metadata": {},
          "output_type": "execute_result"
        },
        {
          "ename": "",
          "evalue": "",
          "output_type": "error",
          "traceback": [
            "\u001b[1;31mThe Kernel crashed while executing code in the current cell or a previous cell. \n",
            "\u001b[1;31mPlease review the code in the cell(s) to identify a possible cause of the failure. \n",
            "\u001b[1;31mClick <a href='https://aka.ms/vscodeJupyterKernelCrash'>here</a> for more info. \n",
            "\u001b[1;31mView Jupyter <a href='command:jupyter.viewOutput'>log</a> for further details."
          ]
        }
      ],
      "source": [
        "from langchain_core.prompts import PromptTemplate\n",
        "from langchain_openai import OpenAI\n",
        "\n",
        "llm = OpenAI(api_key=openai_key)\n",
        "prompt = PromptTemplate.from_template(\n",
        "    \"\"\"\n",
        "    You are a new assistant. User ask you a question and you have a context.\n",
        "    Question: {question}\n",
        "    \n",
        "    Context: {context}\n",
        "    \n",
        "    Based on the the question and the context, answer the question. Do not provide any information that is not present in the context.\n",
        "    Don't mention about the context in the answer.\n",
        "    Stick as close to the question as possible.\n",
        "\"\"\"\n",
        ")\n",
        "\n",
        "chain = prompt | llm\n",
        "chain.invoke({\"question\": \"What is happening with test matches?\", \"context\": context })"
      ]
    },
    {
      "cell_type": "markdown",
      "metadata": {},
      "source": [
        "## Conclusion\n",
        "\n",
        "We have successfully built a simple News AI Assistant using Google News python library, ChromaDB, and Retrieval Augmented Generation (RAG) model. This can be further extended to build a more complex AI Assistant.\n",
        "\n",
        "Due a technical issue with Google News, we were not able to fetch the actual news articles. But soon we will update the code with the actual news articles. Stay tuned for more such blogs."
      ]
    }
  ],
  "metadata": {
    "blog_meta": {
      "author": {
        "name": "Rajesh Kumar Sharma",
        "picture": "https://cdn.thedesiloops.com/news-assistant.webp"
      },
      "coverImage": "https://cdn.thedesiloops.com/news-assistant.webp",
      "date": "2023-06-04T05:35:07.322Z",
      "excerpt": "In this blog post, we will build a News AI Assistant with ChormaDB, OpenAI and Langchain. We will use the assistant to answer questions about latest news.",
      "ogImage": {
        "url": "https://cdn.thedesiloops.com/news-assistant.webp"
      },
      "title": "Building a News AI Assistant with ChormaDB, OpenAI and Langchain",
      "video": "https://www.youtube.com/embed/ndjMi8p9uuw"
    },
    "kernelspec": {
      "display_name": ".venv",
      "language": "python",
      "name": "python3"
    },
    "language_info": {
      "codemirror_mode": {
        "name": "ipython",
        "version": 3
      },
      "file_extension": ".py",
      "mimetype": "text/x-python",
      "name": "python",
      "nbconvert_exporter": "python",
      "pygments_lexer": "ipython3",
      "version": "3.12.4"
    }
  },
  "nbformat": 4,
  "nbformat_minor": 2
}
